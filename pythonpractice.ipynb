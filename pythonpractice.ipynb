{
 "cells": [
  {
   "cell_type": "markdown",
   "metadata": {},
   "source": [
    "*Test case 1 : write a function to check if a number is even or odd*"
   ]
  },
  {
   "cell_type": "code",
   "execution_count": null,
   "metadata": {},
   "outputs": [
    {
     "name": "stdout",
     "output_type": "stream",
     "text": [
      "The number is Even\n",
      "The number is Odd\n"
     ]
    }
   ],
   "source": [
    "# write and continue the code down here\n",
    "# def ...(...):\n",
    "#     return ...\n",
    "\n",
    "# Test\n",
    "# print(...(4))  # Expected: Even\n",
    "# print(...(7))  # Expected: Odd\n",
    "\n",
    "# The output should be like below\n",
    "\n",
    "def even_or_odd(angka1):\n",
    "    if angka1 % 2 == 0:\n",
    "        return \"Even\"\n",
    "    else:\n",
    "        return \"Odd\"\n",
    "\n",
    "print(\"The number is\" , even_or_odd(4))\n",
    "print(\"The number is\", even_or_odd(7))"
   ]
  },
  {
   "cell_type": "markdown",
   "metadata": {},
   "source": [
    "*Test case 2 : write a function to check for anagrams*"
   ]
  },
  {
   "cell_type": "code",
   "execution_count": null,
   "metadata": {},
   "outputs": [
    {
     "name": "stdout",
     "output_type": "stream",
     "text": [
      "True\n",
      "False\n"
     ]
    }
   ],
   "source": [
    "# def ...(str1, str2):\n",
    "#     return ...\n",
    "\n",
    "# # Test\n",
    "# print(...(\"listen\", \"silent\"))  # Expected: True\n",
    "# print(...(\"hello\", \"world\"))    # Expected: False\n",
    "\n",
    "def anagramatau_bukanyeah(kata1, kata2):\n",
    "    if sorted(kata1) == sorted(kata2):\n",
    "        return True\n",
    "    else:\n",
    "        return False\n",
    "\n",
    "print(anagramatau_bukanyeah(\"listen\", \"silent\"))\n",
    "print(anagramatau_bukanyeah(\"hello\", \"world\"))   "
   ]
  },
  {
   "cell_type": "markdown",
   "metadata": {},
   "source": [
    "*Test case 3 : write a function to calculate the factorial of a number*"
   ]
  },
  {
   "cell_type": "code",
   "execution_count": null,
   "metadata": {},
   "outputs": [
    {
     "name": "stdout",
     "output_type": "stream",
     "text": [
      "120\n",
      "1\n"
     ]
    }
   ],
   "source": [
    "# def ...(...):\n",
    "#     return ...\n",
    "#\n",
    "# # Test\n",
    "# print(...(5))  # Expected: 120\n",
    "# print(...(0))  # Expected: 1\n",
    "\n",
    "def factorialNumber(angkacuy):\n",
    "    if angkacuy == 0:\n",
    "        return 1\n",
    "    else:\n",
    "        return angkacuy * factorialNumber(angkacuy - 1)\n",
    "\n",
    "print(factorialNumber(5))\n",
    "print(factorialNumber(1))"
   ]
  },
  {
   "cell_type": "markdown",
   "metadata": {},
   "source": [
    "*Test case 4 : write a function if a string is a palindrome\n",
    "Only 1 line of code is permitted in a function*"
   ]
  },
  {
   "cell_type": "code",
   "execution_count": 6,
   "metadata": {},
   "outputs": [
    {
     "name": "stdout",
     "output_type": "stream",
     "text": [
      "True\n",
      "False\n",
      "True\n"
     ]
    }
   ],
   "source": [
    "# def ...(...):\n",
    "#      return ...\n",
    "#\n",
    "# # Test\n",
    "# print(...(\"racecar\"))  # Expected: True\n",
    "# print(...(\"python\"))   # Expected: False\n",
    "# print(...(\"habibah\")) # Expected : True\n",
    "\n",
    "def palindromatau_bukanyeah(kataapayeah):\n",
    "    if kataapayeah == kataapayeah[::-1]:\n",
    "        return True\n",
    "    else:\n",
    "        return False\n",
    "\n",
    "print(palindromatau_bukanyeah(\"racecar\"))\n",
    "print(palindromatau_bukanyeah(\"python\"))\n",
    "print(palindromatau_bukanyeah(\"habibah\"))"
   ]
  },
  {
   "cell_type": "markdown",
   "metadata": {},
   "source": [
    "*Test case 5 : create a class to represent a Bank Account with deposit and withdrawal methods*"
   ]
  },
  {
   "cell_type": "code",
   "execution_count": 10,
   "metadata": {},
   "outputs": [
    {
     "name": "stdout",
     "output_type": "stream",
     "text": [
      "Deposited 1000. New balance: 1000\n",
      "Withdrew 500. New balance: 500\n",
      "Invalid withdrawal amount or insufficient funds\n"
     ]
    }
   ],
   "source": [
    "class BankAccount:\n",
    "    def __init__(self, name):\n",
    "        self.balance = 0\n",
    "        self.name = name\n",
    "        \n",
    "    def deposit(self, amount):\n",
    "        self.balance += amount\n",
    "        return f\"Deposited {amount}. New balance: {self.balance}\"\n",
    "    \n",
    "    def withdraw(self, amount):\n",
    "        if self.balance >= amount:\n",
    "            self.balance -= amount\n",
    "            return f\"Withdrew {amount}. New balance: {self.balance}\"\n",
    "        else:\n",
    "            return f\"Invalid withdrawal amount or insufficient funds\"\n",
    "\n",
    "\n",
    "account = BankAccount(\"Name\")\n",
    "print(account.deposit(1000))   # Expected: Deposited 1000. New balance: 1000\n",
    "print(account.withdraw(500))   # Expected: Withdrew 500. New balance: 500\n",
    "print(account.withdraw(600))   # Expected: Invalid withdrawal amount or insufficient funds"
   ]
  },
  {
   "cell_type": "code",
   "execution_count": null,
   "metadata": {},
   "outputs": [],
   "source": []
  }
 ],
 "metadata": {
  "kernelspec": {
   "display_name": "base",
   "language": "python",
   "name": "python3"
  },
  "language_info": {
   "codemirror_mode": {
    "name": "ipython",
    "version": 3
   },
   "file_extension": ".py",
   "mimetype": "text/x-python",
   "name": "python",
   "nbconvert_exporter": "python",
   "pygments_lexer": "ipython3",
   "version": "3.12.4"
  }
 },
 "nbformat": 4,
 "nbformat_minor": 2
}
